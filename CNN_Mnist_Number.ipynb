{
 "cells": [
  {
   "cell_type": "code",
   "execution_count": 2,
   "id": "32ec14fa",
   "metadata": {},
   "outputs": [],
   "source": [
    "from tensorflow.keras.datasets import mnist\n",
    "from tensorflow.keras.models import Sequential\n",
    "from tensorflow.keras.layers import Dense, Dropout, BatchNormalization\n",
    "from tensorflow.keras.utils import to_categorical\n",
    "from tensorflow.keras.layers import Conv2D, MaxPooling2D, Flatten\n",
    "from sklearn.model_selection import train_test_split\n",
    "from tensorflow.keras.callbacks import ReduceLROnPlateau\n",
    "from tensorflow.keras.preprocessing.image import ImageDataGenerator\n",
    "import tensorflow as tf\n",
    "\n",
    "(X_train,y_train),(X_test,y_test) = mnist.load_data()\n",
    "X_train = X_train.reshape(60000, 28, 28, 1).astype('float32') \n",
    "X_test = X_test.reshape(10000, 28, 28, 1).astype('float32')\n",
    "\n",
    "X_train /= 255\n",
    "X_test /= 255\n",
    "\n",
    "n_classes = 10\n",
    "y_train = to_categorical(y_train,n_classes)\n",
    "y_test = to_categorical(y_test,n_classes)\n",
    "random_seed = 2\n",
    "X_train, X_test, y_train, y_test = train_test_split(X_train, y_train, test_size = 0.1, random_state=random_seed)"
   ]
  },
  {
   "cell_type": "code",
   "execution_count": 3,
   "id": "7c8652dd",
   "metadata": {},
   "outputs": [],
   "source": [
    "model = Sequential()\n",
    "\n",
    "model.add(Conv2D(filters = 32, kernel_size = (5,5),padding = 'Same', \n",
    "                 activation ='relu', input_shape = (28,28,1)))\n",
    "model.add(Conv2D(filters = 32, kernel_size = (5,5),padding = 'Same', \n",
    "                 activation ='relu'))\n",
    "model.add(MaxPooling2D(pool_size=(2,2)))\n",
    "model.add(Dropout(0.25))\n",
    "\n",
    "\n",
    "model.add(Conv2D(filters = 64, kernel_size = (3,3),padding = 'Same', \n",
    "                 activation ='relu'))\n",
    "model.add(Conv2D(filters = 64, kernel_size = (3,3),padding = 'Same', \n",
    "                 activation ='relu'))\n",
    "model.add(MaxPooling2D(pool_size=(2,2), strides=(2,2)))\n",
    "model.add(Dropout(0.25))\n",
    "\n",
    "\n",
    "model.add(Flatten())\n",
    "model.add(Dense(256, activation = \"relu\"))\n",
    "model.add(Dropout(0.5))\n",
    "model.add(Dense(10, activation = \"softmax\"))"
   ]
  },
  {
   "cell_type": "code",
   "execution_count": 4,
   "id": "25950885",
   "metadata": {},
   "outputs": [],
   "source": [
    "optimizer = tf.keras.optimizers.RMSprop(learning_rate=0.001, rho=0.9, epsilon=1e-08, decay=0.0)"
   ]
  },
  {
   "cell_type": "code",
   "execution_count": 5,
   "id": "4becf040",
   "metadata": {},
   "outputs": [],
   "source": [
    "model.compile(optimizer = optimizer , loss = \"categorical_crossentropy\", metrics=[\"accuracy\"])"
   ]
  },
  {
   "cell_type": "code",
   "execution_count": 6,
   "id": "745d0e85",
   "metadata": {},
   "outputs": [],
   "source": [
    "learning_rate_reduction = ReduceLROnPlateau(monitor='val_acc', \n",
    "                                            patience=3, \n",
    "                                            verbose=1, \n",
    "                                            factor=0.5, \n",
    "                                            min_lr=0.00001)"
   ]
  },
  {
   "cell_type": "code",
   "execution_count": 7,
   "id": "c60597c3",
   "metadata": {},
   "outputs": [],
   "source": [
    "epochs = 30 # Turn epochs to 30 to get 0.9967 accuracy\n",
    "batch_size = 86"
   ]
  },
  {
   "cell_type": "code",
   "execution_count": 8,
   "id": "9f421e38",
   "metadata": {},
   "outputs": [],
   "source": [
    "datagen = ImageDataGenerator(\n",
    "        featurewise_center=False,  # set input mean to 0 over the dataset\n",
    "        samplewise_center=False,  # set each sample mean to 0\n",
    "        featurewise_std_normalization=False,  # divide inputs by std of the dataset\n",
    "        samplewise_std_normalization=False,  # divide each input by its std\n",
    "        zca_whitening=False,  # apply ZCA whitening\n",
    "        rotation_range=10,  # randomly rotate images in the range (degrees, 0 to 180)\n",
    "        zoom_range = 0.1, # Randomly zoom image \n",
    "        width_shift_range=0.1,  # randomly shift images horizontally (fraction of total width)\n",
    "        height_shift_range=0.1,  # randomly shift images vertically (fraction of total height)\n",
    "        horizontal_flip=False,  # randomly flip images\n",
    "        vertical_flip=False)  # randomly flip images\n",
    "\n",
    "\n",
    "datagen.fit(X_train)"
   ]
  },
  {
   "cell_type": "code",
   "execution_count": 9,
   "id": "e76ffe80",
   "metadata": {
    "scrolled": true
   },
   "outputs": [
    {
     "name": "stdout",
     "output_type": "stream",
     "text": [
      "Epoch 1/30\n",
      "627/627 [==============================] - 15s 19ms/step - loss: 0.3460 - accuracy: 0.8910 - val_loss: 0.0493 - val_accuracy: 0.9848\n",
      "WARNING:tensorflow:Learning rate reduction is conditioned on metric `val_acc` which is not available. Available metrics are: loss,accuracy,val_loss,val_accuracy,lr\n",
      "Epoch 2/30\n",
      "627/627 [==============================] - 11s 18ms/step - loss: 0.1091 - accuracy: 0.9669 - val_loss: 0.0459 - val_accuracy: 0.9873\n",
      "WARNING:tensorflow:Learning rate reduction is conditioned on metric `val_acc` which is not available. Available metrics are: loss,accuracy,val_loss,val_accuracy,lr\n",
      "Epoch 3/30\n",
      "627/627 [==============================] - 11s 18ms/step - loss: 0.0819 - accuracy: 0.9756 - val_loss: 0.0267 - val_accuracy: 0.9912\n",
      "WARNING:tensorflow:Learning rate reduction is conditioned on metric `val_acc` which is not available. Available metrics are: loss,accuracy,val_loss,val_accuracy,lr\n",
      "Epoch 4/30\n",
      "627/627 [==============================] - 11s 18ms/step - loss: 0.0705 - accuracy: 0.9798 - val_loss: 0.0345 - val_accuracy: 0.9910\n",
      "WARNING:tensorflow:Learning rate reduction is conditioned on metric `val_acc` which is not available. Available metrics are: loss,accuracy,val_loss,val_accuracy,lr\n",
      "Epoch 5/30\n",
      "627/627 [==============================] - 12s 19ms/step - loss: 0.0658 - accuracy: 0.9816 - val_loss: 0.0381 - val_accuracy: 0.9883\n",
      "WARNING:tensorflow:Learning rate reduction is conditioned on metric `val_acc` which is not available. Available metrics are: loss,accuracy,val_loss,val_accuracy,lr\n",
      "Epoch 6/30\n",
      "627/627 [==============================] - 12s 19ms/step - loss: 0.0632 - accuracy: 0.9813 - val_loss: 0.0412 - val_accuracy: 0.9900\n",
      "WARNING:tensorflow:Learning rate reduction is conditioned on metric `val_acc` which is not available. Available metrics are: loss,accuracy,val_loss,val_accuracy,lr\n",
      "Epoch 7/30\n",
      "627/627 [==============================] - 12s 19ms/step - loss: 0.0595 - accuracy: 0.9833 - val_loss: 0.0304 - val_accuracy: 0.9915\n",
      "WARNING:tensorflow:Learning rate reduction is conditioned on metric `val_acc` which is not available. Available metrics are: loss,accuracy,val_loss,val_accuracy,lr\n",
      "Epoch 8/30\n",
      "627/627 [==============================] - 11s 18ms/step - loss: 0.0598 - accuracy: 0.9830 - val_loss: 0.0334 - val_accuracy: 0.9917\n",
      "WARNING:tensorflow:Learning rate reduction is conditioned on metric `val_acc` which is not available. Available metrics are: loss,accuracy,val_loss,val_accuracy,lr\n",
      "Epoch 9/30\n",
      "627/627 [==============================] - 11s 18ms/step - loss: 0.0631 - accuracy: 0.9828 - val_loss: 0.0375 - val_accuracy: 0.9898\n",
      "WARNING:tensorflow:Learning rate reduction is conditioned on metric `val_acc` which is not available. Available metrics are: loss,accuracy,val_loss,val_accuracy,lr\n",
      "Epoch 10/30\n",
      "627/627 [==============================] - 11s 18ms/step - loss: 0.0609 - accuracy: 0.9830 - val_loss: 0.0347 - val_accuracy: 0.9898\n",
      "WARNING:tensorflow:Learning rate reduction is conditioned on metric `val_acc` which is not available. Available metrics are: loss,accuracy,val_loss,val_accuracy,lr\n",
      "Epoch 11/30\n",
      "627/627 [==============================] - 11s 18ms/step - loss: 0.0629 - accuracy: 0.9829 - val_loss: 0.0382 - val_accuracy: 0.9902\n",
      "WARNING:tensorflow:Learning rate reduction is conditioned on metric `val_acc` which is not available. Available metrics are: loss,accuracy,val_loss,val_accuracy,lr\n",
      "Epoch 12/30\n",
      "627/627 [==============================] - 12s 19ms/step - loss: 0.0648 - accuracy: 0.9830 - val_loss: 0.0335 - val_accuracy: 0.9915\n",
      "WARNING:tensorflow:Learning rate reduction is conditioned on metric `val_acc` which is not available. Available metrics are: loss,accuracy,val_loss,val_accuracy,lr\n",
      "Epoch 13/30\n",
      "627/627 [==============================] - 11s 18ms/step - loss: 0.0653 - accuracy: 0.9827 - val_loss: 0.0246 - val_accuracy: 0.9925\n",
      "WARNING:tensorflow:Learning rate reduction is conditioned on metric `val_acc` which is not available. Available metrics are: loss,accuracy,val_loss,val_accuracy,lr\n",
      "Epoch 14/30\n",
      "627/627 [==============================] - 11s 18ms/step - loss: 0.0679 - accuracy: 0.9819 - val_loss: 0.0276 - val_accuracy: 0.9938\n",
      "WARNING:tensorflow:Learning rate reduction is conditioned on metric `val_acc` which is not available. Available metrics are: loss,accuracy,val_loss,val_accuracy,lr\n",
      "Epoch 15/30\n",
      "627/627 [==============================] - 11s 18ms/step - loss: 0.0649 - accuracy: 0.9826 - val_loss: 0.0462 - val_accuracy: 0.9908\n",
      "WARNING:tensorflow:Learning rate reduction is conditioned on metric `val_acc` which is not available. Available metrics are: loss,accuracy,val_loss,val_accuracy,lr\n",
      "Epoch 16/30\n",
      "627/627 [==============================] - 11s 18ms/step - loss: 0.0714 - accuracy: 0.9824 - val_loss: 0.0304 - val_accuracy: 0.9912\n",
      "WARNING:tensorflow:Learning rate reduction is conditioned on metric `val_acc` which is not available. Available metrics are: loss,accuracy,val_loss,val_accuracy,lr\n",
      "Epoch 17/30\n",
      "627/627 [==============================] - 12s 19ms/step - loss: 0.0723 - accuracy: 0.9809 - val_loss: 0.0378 - val_accuracy: 0.9910\n",
      "WARNING:tensorflow:Learning rate reduction is conditioned on metric `val_acc` which is not available. Available metrics are: loss,accuracy,val_loss,val_accuracy,lr\n",
      "Epoch 18/30\n",
      "627/627 [==============================] - 12s 19ms/step - loss: 0.0734 - accuracy: 0.9815 - val_loss: 0.0514 - val_accuracy: 0.9895\n",
      "WARNING:tensorflow:Learning rate reduction is conditioned on metric `val_acc` which is not available. Available metrics are: loss,accuracy,val_loss,val_accuracy,lr\n",
      "Epoch 19/30\n",
      "627/627 [==============================] - 11s 18ms/step - loss: 0.0749 - accuracy: 0.9812 - val_loss: 0.0299 - val_accuracy: 0.9923\n",
      "WARNING:tensorflow:Learning rate reduction is conditioned on metric `val_acc` which is not available. Available metrics are: loss,accuracy,val_loss,val_accuracy,lr\n",
      "Epoch 20/30\n",
      "627/627 [==============================] - 11s 18ms/step - loss: 0.0720 - accuracy: 0.9819 - val_loss: 0.0392 - val_accuracy: 0.9892\n",
      "WARNING:tensorflow:Learning rate reduction is conditioned on metric `val_acc` which is not available. Available metrics are: loss,accuracy,val_loss,val_accuracy,lr\n",
      "Epoch 21/30\n",
      "627/627 [==============================] - 11s 18ms/step - loss: 0.0786 - accuracy: 0.9806 - val_loss: 0.0516 - val_accuracy: 0.9902\n",
      "WARNING:tensorflow:Learning rate reduction is conditioned on metric `val_acc` which is not available. Available metrics are: loss,accuracy,val_loss,val_accuracy,lr\n",
      "Epoch 22/30\n",
      "627/627 [==============================] - 11s 18ms/step - loss: 0.0794 - accuracy: 0.9797 - val_loss: 0.0317 - val_accuracy: 0.9928\n",
      "WARNING:tensorflow:Learning rate reduction is conditioned on metric `val_acc` which is not available. Available metrics are: loss,accuracy,val_loss,val_accuracy,lr\n",
      "Epoch 23/30\n",
      "627/627 [==============================] - 12s 18ms/step - loss: 0.0796 - accuracy: 0.9804 - val_loss: 0.0289 - val_accuracy: 0.9923\n",
      "WARNING:tensorflow:Learning rate reduction is conditioned on metric `val_acc` which is not available. Available metrics are: loss,accuracy,val_loss,val_accuracy,lr\n",
      "Epoch 24/30\n",
      "627/627 [==============================] - 12s 19ms/step - loss: 0.0844 - accuracy: 0.9800 - val_loss: 0.0381 - val_accuracy: 0.9910\n",
      "WARNING:tensorflow:Learning rate reduction is conditioned on metric `val_acc` which is not available. Available metrics are: loss,accuracy,val_loss,val_accuracy,lr\n",
      "Epoch 25/30\n",
      "627/627 [==============================] - 12s 19ms/step - loss: 0.0816 - accuracy: 0.9795 - val_loss: 0.0264 - val_accuracy: 0.9918\n",
      "WARNING:tensorflow:Learning rate reduction is conditioned on metric `val_acc` which is not available. Available metrics are: loss,accuracy,val_loss,val_accuracy,lr\n",
      "Epoch 26/30\n",
      "627/627 [==============================] - 11s 18ms/step - loss: 0.0905 - accuracy: 0.9788 - val_loss: 0.0368 - val_accuracy: 0.9920\n",
      "WARNING:tensorflow:Learning rate reduction is conditioned on metric `val_acc` which is not available. Available metrics are: loss,accuracy,val_loss,val_accuracy,lr\n",
      "Epoch 27/30\n",
      "627/627 [==============================] - 11s 18ms/step - loss: 0.0879 - accuracy: 0.9786 - val_loss: 0.0628 - val_accuracy: 0.9900\n",
      "WARNING:tensorflow:Learning rate reduction is conditioned on metric `val_acc` which is not available. Available metrics are: loss,accuracy,val_loss,val_accuracy,lr\n"
     ]
    },
    {
     "name": "stdout",
     "output_type": "stream",
     "text": [
      "Epoch 28/30\n",
      "627/627 [==============================] - 11s 18ms/step - loss: 0.0920 - accuracy: 0.9783 - val_loss: 0.0919 - val_accuracy: 0.9880\n",
      "WARNING:tensorflow:Learning rate reduction is conditioned on metric `val_acc` which is not available. Available metrics are: loss,accuracy,val_loss,val_accuracy,lr\n",
      "Epoch 29/30\n",
      "627/627 [==============================] - 11s 18ms/step - loss: 0.0997 - accuracy: 0.9774 - val_loss: 0.0540 - val_accuracy: 0.9877\n",
      "WARNING:tensorflow:Learning rate reduction is conditioned on metric `val_acc` which is not available. Available metrics are: loss,accuracy,val_loss,val_accuracy,lr\n",
      "Epoch 30/30\n",
      "627/627 [==============================] - 11s 18ms/step - loss: 0.0944 - accuracy: 0.9770 - val_loss: 0.0563 - val_accuracy: 0.9910\n",
      "WARNING:tensorflow:Learning rate reduction is conditioned on metric `val_acc` which is not available. Available metrics are: loss,accuracy,val_loss,val_accuracy,lr\n"
     ]
    }
   ],
   "source": [
    "history = model.fit(datagen.flow(X_train,y_train, batch_size=batch_size),\n",
    "                              epochs = epochs, validation_data = (X_test,y_test),\n",
    "                              verbose = 1, steps_per_epoch=X_train.shape[0] // batch_size\n",
    "                              , callbacks=[learning_rate_reduction])"
   ]
  },
  {
   "cell_type": "code",
   "execution_count": 10,
   "id": "2ceb3832",
   "metadata": {},
   "outputs": [],
   "source": [
    "import numpy as np\n",
    "import matplotlib.pyplot as plt\n",
    "def show_images_labels_predictions(images,labels,predictions,start_id,num=10):\n",
    "    plt.gcf().set_size_inches(12,14)\n",
    "    if num>25: \n",
    "        num=25\n",
    "    for i in range(num):\n",
    "        ax = plt.subplot(5,5,i+1)\n",
    "        ax.imshow(images[start_id],cmap='binary')\n",
    "        \n",
    "        # 有 AI 預測結果資料,才在標題顯示預測結果\n",
    "        if(len(predictions)>0):\n",
    "            title = 'ai = ' + str(predictions[start_id])\n",
    "            \n",
    "            # 預測正確顯示 (o) 錯誤顯示 (x)\n",
    "            title += ('(o)' if predictions[start_id]==labels[start_id] else '(x)')\n",
    "\n",
    "            title += '\\nlabel = ' + str(labels[start_id])\n",
    "        \n",
    "        # 沒有 AI 預測結果資料,只在標題顯示真實數值\n",
    "        else :\n",
    "            title = 'label = ' + str(labels[start_id])\n",
    "\n",
    "        ax.set_title(title,fontsize = 12)\n",
    "        \n",
    "        # X,Y軸不顯示刻度\n",
    "        ax.set_xticks([])\n",
    "        ax.set_yticks([])\n",
    "        start_id += 1\n",
    "    plt.show()\n",
    "\n",
    "y_label = np.argmax(y_test, axis=-1)"
   ]
  },
  {
   "cell_type": "code",
   "execution_count": 11,
   "id": "0a6abc84",
   "metadata": {},
   "outputs": [
    {
     "data": {
      "image/png": "[encoded data removed]",
      "text/plain": [
       "<Figure size 1200x1400 with 10 Axes>"
      ]
     },
     "metadata": {},
     "output_type": "display_data"
    }
   ],
   "source": [
    "prediction = np.argmax(model.predict(X_test), axis=-1)\n",
    "\n",
    "show_images_labels_predictions(X_test,y_label,prediction,0)"
   ]
  },
  {
   "cell_type": "code",
   "execution_count": 12,
   "id": "0b57fec1",
   "metadata": {},
   "outputs": [
    {
     "name": "stdout",
     "output_type": "stream",
     "text": [
      "<class 'numpy.ndarray'>\n"
     ]
    }
   ],
   "source": [
    "import glob,cv2\n",
    "import numpy as np\n",
    "files = glob.glob(\"image_file1\\*.jpg\")\n",
    "\n",
    "test_feature = []\n",
    "test_label = []\n",
    "\n",
    "for file in files:\n",
    "    img = cv2.imread(file)\n",
    "    img = cv2.cvtColor(img, cv2.COLOR_BGR2GRAY) # 灰階\n",
    "    _, img = cv2.threshold(img, 127, 255,cv2.THRESH_BINARY_INV) # 轉為反向黑白\n",
    "    test_feature.append(img)\n",
    "    label = file[12:13]  # image_file1\\*.jpg 第12個字元'*'為label\n",
    "    test_label.append(int(label))\n",
    "\n",
    "test_feature = np.array(test_feature)\n",
    "test_label = np.array(test_label)\n",
    "\n",
    "print(type(test_feature))\n",
    "\n",
    "test_feature_vector = test_feature.reshape(10, 28, 28, 1).astype('float32')\n",
    "test_feature_normalize = test_feature_vector/255"
   ]
  },
  {
   "cell_type": "code",
   "execution_count": 13,
   "id": "552274bd",
   "metadata": {},
   "outputs": [],
   "source": [
    "import matplotlib.pyplot as plt\n",
    "def show_images(images,start_id,num=10):\n",
    "    plt.gcf().set_size_inches(12,14)\n",
    "    if num>25: \n",
    "        num=25\n",
    "    for i in range(num):\n",
    "        ax = plt.subplot(5,5,i+1)\n",
    "#         ax.imshow(images[start_id],cmap='binary')\n",
    "        ax.imshow(images[start_id],cmap='gray')\n",
    "      \n",
    "        # X,Y軸不顯示刻度\n",
    "        ax.set_xticks([])\n",
    "        ax.set_yticks([])\n",
    "        start_id += 1\n",
    "    plt.show()"
   ]
  },
  {
   "cell_type": "code",
   "execution_count": 14,
   "id": "09a35f9a",
   "metadata": {},
   "outputs": [
    {
     "data": {
      "image/png": "[encoded data removed]",
      "text/plain": [
       "<Figure size 1200x1400 with 10 Axes>"
      ]
     },
     "metadata": {},
     "output_type": "display_data"
    }
   ],
   "source": [
    "prediction = np.argmax(model.predict(test_feature_normalize), axis=-1)\n",
    "\n",
    "show_images_labels_predictions(test_feature_normalize,test_label,prediction,0)"
   ]
  },
  {
   "cell_type": "code",
   "execution_count": 15,
   "id": "e2bd835a",
   "metadata": {},
   "outputs": [],
   "source": [
    "model.save('./YGCNN_model.h5')"
   ]
  },
  {
   "cell_type": "code",
   "execution_count": 16,
   "id": "b863ea15",
   "metadata": {},
   "outputs": [],
   "source": [
    "model.save_weights('./YGCNN_model.weight')"
   ]
  },
  {
   "cell_type": "code",
   "execution_count": null,
   "id": "8bf65c5e",
   "metadata": {},
   "outputs": [],
   "source": []
  }
 ],
 "metadata": {
  "kernelspec": {
   "display_name": "Python 3 (ipykernel)",
   "language": "python",
   "name": "python3"
  },
  "language_info": {
   "codemirror_mode": {
    "name": "ipython",
    "version": 3
   },
   "file_extension": ".py",
   "mimetype": "text/x-python",
   "name": "python",
   "nbconvert_exporter": "python",
   "pygments_lexer": "ipython3",
   "version": "3.9.17"
  }
 },
 "nbformat": 4,
 "nbformat_minor": 5
}
