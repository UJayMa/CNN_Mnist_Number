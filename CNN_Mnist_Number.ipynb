{
 "cells": [
  {
   "cell_type": "code",
   "execution_count": 2,
   "id": "32ec14fa",
   "metadata": {},
   "outputs": [],
   "source": [
    "from tensorflow.keras.datasets import mnist\n",
    "from tensorflow.keras.models import Sequential\n",
    "from tensorflow.keras.layers import Dense, Dropout, BatchNormalization\n",
    "from tensorflow.keras.utils import to_categorical\n",
    "from tensorflow.keras.layers import Conv2D, MaxPooling2D, Flatten\n",
    "\n",
    "(X_train,y_train),(X_test,y_test) = mnist.load_data()\n",
    "X_train = X_train.reshape(60000, 28, 28, 1).astype('float32') \n",
    "X_test = X_test.reshape(10000, 28, 28, 1).astype('float32')\n",
    "\n",
    "X_train /= 255\n",
    "X_test /= 255\n",
    "\n",
    "n_classes = 10\n",
    "y_train = to_categorical(y_train,n_classes)\n",
    "y_test = to_categorical(y_test,n_classes)"
   ]
  },
  {
   "cell_type": "code",
   "execution_count": null,
   "id": "1d3fb15e",
   "metadata": {},
   "outputs": [],
   "source": [
    "### 原始程式\n",
    "# model = Sequential()\n",
    "\n",
    "# # 第一卷積層\n",
    "# model.add(Conv2D(32, kernel_size=(3, 3), activation='relu',input_shape=(28,28,1)))\n",
    "\n",
    "# # 第二卷積層, 並搭配最大池化層與丟棄層\n",
    "# model.add(Conv2D(64, kernel_size=(3, 3), activation='relu'))\n",
    "\n",
    "# model.add(MaxPooling2D(pool_size=(2,2)))\n",
    "# model.add(Dropout(0.25))\n",
    "# model.add(Flatten())\n",
    "\n",
    "# # 搭配丟棄法的密集隱藏層\n",
    "# model.add(Dense(128, activation='relu'))\n",
    "# model.add(Dropout(0.5))\n",
    "\n",
    "# # 輸出層\n",
    "# model.add(Dense(n_classes, activation='softmax'))"
   ]
  },
  {
   "cell_type": "code",
   "execution_count": 22,
   "id": "a81e96a7",
   "metadata": {},
   "outputs": [],
   "source": [
    "model = Sequential()\n",
    "\n",
    "model.add(Conv2D(64, kernel_size=(3, 3), activation='relu',input_shape=(28,28,1)))\n",
    "model.add(Conv2D(64, kernel_size=(3, 3), activation='relu'))\n",
    "model.add(MaxPooling2D(pool_size=(2,2)))\n",
    "# model.add(Dropout(0.3))\n",
    "\n",
    "model.add(Conv2D(128, kernel_size=(3, 3), activation='relu'))\n",
    "model.add(Conv2D(128, kernel_size=(3, 3), activation='relu'))\n",
    "model.add(MaxPooling2D(pool_size=(2,2)))\n",
    "model.add(Dropout(0.3))\n",
    "\n",
    "model.add(Flatten())\n",
    "\n",
    "model.add(Dense(128, activation='relu'))\n",
    "model.add(Dropout(0.5))\n",
    "\n",
    "model.add(Dense(n_classes, activation='softmax'))"
   ]
  },
  {
   "cell_type": "code",
   "execution_count": 23,
   "id": "59274d21",
   "metadata": {},
   "outputs": [
    {
     "name": "stdout",
     "output_type": "stream",
     "text": [
      "Model: \"sequential_3\"\n",
      "_________________________________________________________________\n",
      "Layer (type)                 Output Shape              Param #   \n",
      "=================================================================\n",
      "conv2d_12 (Conv2D)           (None, 26, 26, 64)        640       \n",
      "_________________________________________________________________\n",
      "conv2d_13 (Conv2D)           (None, 24, 24, 64)        36928     \n",
      "_________________________________________________________________\n",
      "max_pooling2d_5 (MaxPooling2 (None, 12, 12, 64)        0         \n",
      "_________________________________________________________________\n",
      "conv2d_14 (Conv2D)           (None, 10, 10, 128)       73856     \n",
      "_________________________________________________________________\n",
      "conv2d_15 (Conv2D)           (None, 8, 8, 128)         147584    \n",
      "_________________________________________________________________\n",
      "max_pooling2d_6 (MaxPooling2 (None, 4, 4, 128)         0         \n",
      "_________________________________________________________________\n",
      "dropout_9 (Dropout)          (None, 4, 4, 128)         0         \n",
      "_________________________________________________________________\n",
      "flatten_3 (Flatten)          (None, 2048)              0         \n",
      "_________________________________________________________________\n",
      "dense_6 (Dense)              (None, 128)               262272    \n",
      "_________________________________________________________________\n",
      "dropout_10 (Dropout)         (None, 128)               0         \n",
      "_________________________________________________________________\n",
      "dense_7 (Dense)              (None, 10)                1290      \n",
      "=================================================================\n",
      "Total params: 522,570\n",
      "Trainable params: 522,570\n",
      "Non-trainable params: 0\n",
      "_________________________________________________________________\n"
     ]
    }
   ],
   "source": [
    "model.summary()"
   ]
  },
  {
   "cell_type": "code",
   "execution_count": 24,
   "id": "07963410",
   "metadata": {
    "scrolled": true
   },
   "outputs": [
    {
     "name": "stdout",
     "output_type": "stream",
     "text": [
      "Epoch 1/10\n",
      "469/469 [==============================] - 7s 15ms/step - loss: 0.2307 - accuracy: 0.9276 - val_loss: 0.0391 - val_accuracy: 0.9876\n",
      "Epoch 2/10\n",
      "469/469 [==============================] - 7s 14ms/step - loss: 0.0719 - accuracy: 0.9787 - val_loss: 0.0302 - val_accuracy: 0.9907\n",
      "Epoch 3/10\n",
      "469/469 [==============================] - 7s 14ms/step - loss: 0.0528 - accuracy: 0.9850 - val_loss: 0.0210 - val_accuracy: 0.9931\n",
      "Epoch 4/10\n",
      "469/469 [==============================] - 7s 14ms/step - loss: 0.0414 - accuracy: 0.9882 - val_loss: 0.0184 - val_accuracy: 0.9941\n",
      "Epoch 5/10\n",
      "469/469 [==============================] - 7s 14ms/step - loss: 0.0346 - accuracy: 0.9897 - val_loss: 0.0192 - val_accuracy: 0.9932\n",
      "Epoch 6/10\n",
      "469/469 [==============================] - 7s 14ms/step - loss: 0.0305 - accuracy: 0.9913 - val_loss: 0.0159 - val_accuracy: 0.9953\n",
      "Epoch 7/10\n",
      "469/469 [==============================] - 7s 14ms/step - loss: 0.0271 - accuracy: 0.9919 - val_loss: 0.0205 - val_accuracy: 0.9940\n",
      "Epoch 8/10\n",
      "469/469 [==============================] - 7s 14ms/step - loss: 0.0236 - accuracy: 0.9927 - val_loss: 0.0266 - val_accuracy: 0.9918\n",
      "Epoch 9/10\n",
      "469/469 [==============================] - 7s 14ms/step - loss: 0.0221 - accuracy: 0.9930 - val_loss: 0.0201 - val_accuracy: 0.9927\n",
      "Epoch 10/10\n",
      "469/469 [==============================] - 7s 14ms/step - loss: 0.0196 - accuracy: 0.9939 - val_loss: 0.0154 - val_accuracy: 0.9948\n"
     ]
    },
    {
     "data": {
      "text/plain": [
       "<tensorflow.python.keras.callbacks.History at 0x1ddddb6e880>"
      ]
     },
     "execution_count": 24,
     "metadata": {},
     "output_type": "execute_result"
    }
   ],
   "source": [
    "model.compile(loss='categorical_crossentropy', optimizer='adam', metrics=['accuracy'])\n",
    "\n",
    "model.fit(X_train, y_train, batch_size=128, epochs=10, verbose=1, validation_data=(X_test,y_test))"
   ]
  },
  {
   "cell_type": "code",
   "execution_count": 9,
   "id": "2ceb3832",
   "metadata": {},
   "outputs": [],
   "source": [
    "import numpy as np\n",
    "import matplotlib.pyplot as plt\n",
    "def show_images_labels_predictions(images,labels,predictions,start_id,num=10):\n",
    "    plt.gcf().set_size_inches(12,14)\n",
    "    if num>25: \n",
    "        num=25\n",
    "    for i in range(num):\n",
    "        ax = plt.subplot(5,5,i+1)\n",
    "        ax.imshow(images[start_id],cmap='binary')\n",
    "        \n",
    "        # 有 AI 預測結果資料,才在標題顯示預測結果\n",
    "        if(len(predictions)>0):\n",
    "            title = 'ai = ' + str(predictions[start_id])\n",
    "            \n",
    "            # 預測正確顯示 (o) 錯誤顯示 (x)\n",
    "            title += ('(o)' if predictions[start_id]==labels[start_id] else '(x)')\n",
    "\n",
    "            title += '\\nlabel = ' + str(labels[start_id])\n",
    "        \n",
    "        # 沒有 AI 預測結果資料,只在標題顯示真實數值\n",
    "        else :\n",
    "            title = 'label = ' + str(labels[start_id])\n",
    "\n",
    "        ax.set_title(title,fontsize = 12)\n",
    "        \n",
    "        # X,Y軸不顯示刻度\n",
    "        ax.set_xticks([])\n",
    "        ax.set_yticks([])\n",
    "        start_id += 1\n",
    "    plt.show()\n",
    "\n",
    "y_label = np.argmax(y_test, axis=-1)"
   ]
  },
  {
   "cell_type": "code",
   "execution_count": 25,
   "id": "0a6abc84",
   "metadata": {},
   "outputs": [
    {
     "data": {
      "image/png": "[encoded data removed]",
      "text/plain": [
       "<Figure size 864x1008 with 10 Axes>"
      ]
     },
     "metadata": {},
     "output_type": "display_data"
    }
   ],
   "source": [
    "prediction = np.argmax(model.predict(X_test), axis=-1)\n",
    "\n",
    "show_images_labels_predictions(X_test,y_label,prediction,0)"
   ]
  },
  {
   "cell_type": "code",
   "execution_count": 11,
   "id": "0b57fec1",
   "metadata": {},
   "outputs": [
    {
     "name": "stdout",
     "output_type": "stream",
     "text": [
      "<class 'numpy.ndarray'>\n"
     ]
    }
   ],
   "source": [
    "import glob,cv2\n",
    "files = glob.glob(\"image_file1\\*.jpg\")\n",
    "\n",
    "test_feature = []\n",
    "test_label = []\n",
    "\n",
    "for file in files:\n",
    "    img = cv2.imread(file)\n",
    "    img = cv2.cvtColor(img, cv2.COLOR_BGR2GRAY)\n",
    "    _, img = cv2.threshold(img, 127, 255,cv2.THRESH_BINARY_INV)\n",
    "    test_feature.append(img)\n",
    "    label = file[12:13]\n",
    "    test_label.append(int(label))\n",
    "\n",
    "test_feature = np.array(test_feature)\n",
    "test_label = np.array(test_label)\n",
    "\n",
    "print(type(test_feature))\n",
    "\n",
    "test_feature_vector = test_feature.reshape(10, 28, 28, 1).astype('float32')\n",
    "test_feature_normalize = test_feature_vector/255"
   ]
  },
  {
   "cell_type": "code",
   "execution_count": 34,
   "id": "552274bd",
   "metadata": {},
   "outputs": [],
   "source": [
    "def show_images(images,start_id,num=10):\n",
    "    plt.gcf().set_size_inches(12,14)\n",
    "    if num>25: \n",
    "        num=25\n",
    "    for i in range(num):\n",
    "        ax = plt.subplot(5,5,i+1)\n",
    "        ax.imshow(images[start_id],cmap='binary')\n",
    "      \n",
    "        # X,Y軸不顯示刻度\n",
    "        ax.set_xticks([])\n",
    "        ax.set_yticks([])\n",
    "        start_id += 1\n",
    "    plt.show()"
   ]
  },
  {
   "cell_type": "code",
   "execution_count": 36,
   "id": "aee0a63f",
   "metadata": {},
   "outputs": [
    {
     "data": {
      "image/png": "[encoded data removed]",
      "text/plain": [
       "<Figure size 864x1008 with 10 Axes>"
      ]
     },
     "metadata": {},
     "output_type": "display_data"
    }
   ],
   "source": [
    "show_images(test_feature_normalize,0)"
   ]
  },
  {
   "cell_type": "code",
   "execution_count": 26,
   "id": "09a35f9a",
   "metadata": {},
   "outputs": [
    {
     "data": {
      "image/png": "[encoded data removed]",
      "text/plain": [
       "<Figure size 864x1008 with 10 Axes>"
      ]
     },
     "metadata": {},
     "output_type": "display_data"
    }
   ],
   "source": [
    "prediction = np.argmax(model.predict(test_feature_normalize), axis=-1)\n",
    "\n",
    "show_images_labels_predictions(test_feature_normalize,test_label,prediction,0)"
   ]
  },
  {
   "cell_type": "code",
   "execution_count": null,
   "id": "e2bd835a",
   "metadata": {},
   "outputs": [],
   "source": []
  }
 ],
 "metadata": {
  "kernelspec": {
   "display_name": "Python 3 (ipykernel)",
   "language": "python",
   "name": "python3"
  },
  "language_info": {
   "codemirror_mode": {
    "name": "ipython",
    "version": 3
   },
   "file_extension": ".py",
   "mimetype": "text/x-python",
   "name": "python",
   "nbconvert_exporter": "python",
   "pygments_lexer": "ipython3",
   "version": "3.9.12"
  }
 },
 "nbformat": 4,
 "nbformat_minor": 5
}
