{
 "cells": [
  {
   "cell_type": "code",
   "execution_count": 2,
   "id": "c72e43fb",
   "metadata": {},
   "outputs": [],
   "source": [
    "import tensorflow as tf\n",
    "from tensorflow.keras.datasets import mnist\n",
    "from tensorflow.keras.models import Sequential\n",
    "from tensorflow.keras.layers import Dense, Dropout\n",
    "from tensorflow.keras.utils import to_categorical\n",
    "from tensorflow.keras.layers import Conv2D, MaxPooling2D, Flatten\n",
    "from tensorflow.keras.callbacks import ReduceLROnPlateau\n",
    "from tensorflow.keras.preprocessing.image import ImageDataGenerator\n",
    "from sklearn.model_selection import train_test_split"
   ]
  },
  {
   "cell_type": "code",
   "execution_count": 13,
   "id": "8bb26009",
   "metadata": {},
   "outputs": [],
   "source": [
    "(X_train,y_train),(X_test,y_test) = mnist.load_data()\n",
    "X_train = X_train.reshape(60000, 28, 28, 1).astype('float32') \n",
    "X_test = X_test.reshape(10000, 28, 28, 1).astype('float32')\n",
    "\n",
    "X_train /= 255\n",
    "X_test /= 255\n",
    "\n",
    "n_classes = 10\n",
    "y_train = to_categorical(y_train,n_classes)\n",
    "y_test = to_categorical(y_test,n_classes)\n",
    "\n",
    "random_seed = 3\n",
    "X_train, X_test, y_train, y_test = train_test_split(X_train, y_train, test_size = 0.1, random_state=random_seed)"
   ]
  },
  {
   "cell_type": "code",
   "execution_count": 14,
   "id": "2da75bff",
   "metadata": {},
   "outputs": [],
   "source": [
    "model = Sequential()\n",
    "\n",
    "model.add(Conv2D(filters = 32, kernel_size = (5,5),padding = 'Same', \n",
    "                 activation ='relu', input_shape = (28,28,1)))\n",
    "model.add(Conv2D(filters = 32, kernel_size = (5,5),padding = 'Same', \n",
    "                 activation ='relu'))\n",
    "model.add(MaxPooling2D(pool_size=(2,2)))\n",
    "model.add(Dropout(0.2))\n",
    "\n",
    "\n",
    "model.add(Conv2D(filters = 64, kernel_size = (3,3),padding = 'Same', \n",
    "                 activation ='relu'))\n",
    "model.add(Conv2D(filters = 64, kernel_size = (3,3),padding = 'Same', \n",
    "                 activation ='relu'))\n",
    "model.add(MaxPooling2D(pool_size=(2,2), strides=(2,2)))\n",
    "model.add(Dropout(0.3))\n",
    "\n",
    "\n",
    "model.add(Flatten())\n",
    "model.add(Dense(256, activation = \"relu\"))\n",
    "model.add(Dropout(0.5))\n",
    "model.add(Dense(10, activation = \"softmax\"))"
   ]
  },
  {
   "cell_type": "code",
   "execution_count": 15,
   "id": "f1e8cf5f",
   "metadata": {},
   "outputs": [],
   "source": [
    "optimizer = tf.keras.optimizers.RMSprop(learning_rate=0.001, rho=0.9, epsilon=1e-08, decay=0.0)\n",
    "model.compile(optimizer = optimizer , loss = \"categorical_crossentropy\", metrics=[\"accuracy\"])"
   ]
  },
  {
   "cell_type": "code",
   "execution_count": 16,
   "id": "8c91f22e",
   "metadata": {},
   "outputs": [],
   "source": [
    "learning_rate_reduction = ReduceLROnPlateau(monitor='val_accuracy', \n",
    "                                            patience=3, \n",
    "                                            verbose=1, \n",
    "                                            factor=0.3, \n",
    "                                            min_lr=0.00001)"
   ]
  },
  {
   "cell_type": "code",
   "execution_count": 18,
   "id": "03d9485d",
   "metadata": {},
   "outputs": [],
   "source": [
    "epochs = 20\n",
    "batch_size = 128"
   ]
  },
  {
   "cell_type": "code",
   "execution_count": 19,
   "id": "2338b4a3",
   "metadata": {},
   "outputs": [],
   "source": [
    "datagen = ImageDataGenerator(\n",
    "        featurewise_center=False,  # 使輸入數據的均值為0，這將使每個特徵在數據集上的均值為 0\n",
    "        samplewise_center=False,  # 使輸入數據的每個樣本的均值為 0\n",
    "        featurewise_std_normalization=False,  # 將輸入數據除以其標準差，以使每個特徵的方差為1\n",
    "        samplewise_std_normalization=False,  # 將輸入數據的每個樣本除以其標準差\n",
    "        zca_whitening=False,  # 應用ZCA白化\n",
    "        rotation_range=10,  # 整數，隨機旋轉的度數範圍 (degrees, 0 to 180)\n",
    "        zoom_range = 0.1, # 隨機縮放範圍 \n",
    "        width_shift_range=0.1,  # 水平隨機移動的範圍 表示總寬度的比例 (fraction of total width)\n",
    "        height_shift_range=0.1,  # 垂直隨機移動的範圍 表示總高度的比例 (fraction of total height)\n",
    "        horizontal_flip=False,  # 隨機水平翻轉\n",
    "        vertical_flip=False)  # 隨機垂直翻轉\n",
    "\n",
    "\n",
    "datagen.fit(X_train)"
   ]
  },
  {
   "cell_type": "code",
   "execution_count": 20,
   "id": "724b4cc5",
   "metadata": {
    "scrolled": true
   },
   "outputs": [
    {
     "name": "stdout",
     "output_type": "stream",
     "text": [
      "Epoch 1/20\n",
      "421/421 [==============================] - 12s 27ms/step - loss: 0.3797 - accuracy: 0.8790 - val_loss: 0.0643 - val_accuracy: 0.9788\n",
      "Epoch 2/20\n",
      "421/421 [==============================] - 11s 27ms/step - loss: 0.1161 - accuracy: 0.9645 - val_loss: 0.0342 - val_accuracy: 0.9893\n",
      "Epoch 3/20\n",
      "421/421 [==============================] - 11s 27ms/step - loss: 0.0851 - accuracy: 0.9754 - val_loss: 0.0304 - val_accuracy: 0.9907\n",
      "Epoch 4/20\n",
      "421/421 [==============================] - 11s 26ms/step - loss: 0.0715 - accuracy: 0.9791 - val_loss: 0.0288 - val_accuracy: 0.9913\n",
      "Epoch 5/20\n",
      "421/421 [==============================] - 11s 27ms/step - loss: 0.0649 - accuracy: 0.9813 - val_loss: 0.0253 - val_accuracy: 0.9927\n",
      "Epoch 6/20\n",
      "421/421 [==============================] - 11s 27ms/step - loss: 0.0585 - accuracy: 0.9836 - val_loss: 0.0255 - val_accuracy: 0.9922\n",
      "Epoch 7/20\n",
      "421/421 [==============================] - 11s 27ms/step - loss: 0.0567 - accuracy: 0.9836 - val_loss: 0.0275 - val_accuracy: 0.9932\n",
      "Epoch 8/20\n",
      "421/421 [==============================] - 11s 27ms/step - loss: 0.0560 - accuracy: 0.9837 - val_loss: 0.0244 - val_accuracy: 0.9915\n",
      "Epoch 9/20\n",
      "421/421 [==============================] - 11s 27ms/step - loss: 0.0527 - accuracy: 0.9849 - val_loss: 0.0276 - val_accuracy: 0.9928\n",
      "Epoch 10/20\n",
      "421/421 [==============================] - 11s 26ms/step - loss: 0.0503 - accuracy: 0.9856 - val_loss: 0.0310 - val_accuracy: 0.9915\n",
      "\n",
      "Epoch 00010: ReduceLROnPlateau reducing learning rate to 0.0003000000142492354.\n",
      "Epoch 11/20\n",
      "421/421 [==============================] - 11s 26ms/step - loss: 0.0377 - accuracy: 0.9890 - val_loss: 0.0241 - val_accuracy: 0.9930\n",
      "Epoch 12/20\n",
      "421/421 [==============================] - 11s 27ms/step - loss: 0.0348 - accuracy: 0.9903 - val_loss: 0.0232 - val_accuracy: 0.9937\n",
      "Epoch 13/20\n",
      "421/421 [==============================] - 11s 27ms/step - loss: 0.0356 - accuracy: 0.9897 - val_loss: 0.0233 - val_accuracy: 0.9943\n",
      "Epoch 14/20\n",
      "421/421 [==============================] - 11s 27ms/step - loss: 0.0368 - accuracy: 0.9897 - val_loss: 0.0192 - val_accuracy: 0.9940\n",
      "Epoch 15/20\n",
      "421/421 [==============================] - 11s 27ms/step - loss: 0.0343 - accuracy: 0.9899 - val_loss: 0.0199 - val_accuracy: 0.9938\n",
      "Epoch 16/20\n",
      "421/421 [==============================] - 11s 26ms/step - loss: 0.0332 - accuracy: 0.9902 - val_loss: 0.0254 - val_accuracy: 0.9932\n",
      "\n",
      "Epoch 00016: ReduceLROnPlateau reducing learning rate to 9.000000427477062e-05.\n",
      "Epoch 17/20\n",
      "421/421 [==============================] - 11s 27ms/step - loss: 0.0298 - accuracy: 0.9917 - val_loss: 0.0221 - val_accuracy: 0.9943\n",
      "Epoch 18/20\n",
      "421/421 [==============================] - 11s 27ms/step - loss: 0.0295 - accuracy: 0.9917 - val_loss: 0.0215 - val_accuracy: 0.9938\n",
      "Epoch 19/20\n",
      "421/421 [==============================] - 11s 27ms/step - loss: 0.0281 - accuracy: 0.9920 - val_loss: 0.0208 - val_accuracy: 0.9948\n",
      "Epoch 20/20\n",
      "421/421 [==============================] - 11s 27ms/step - loss: 0.0293 - accuracy: 0.9918 - val_loss: 0.0213 - val_accuracy: 0.9945\n"
     ]
    }
   ],
   "source": [
    "history = model.fit(datagen.flow(X_train,y_train, batch_size=batch_size),\n",
    "                              epochs = epochs, validation_data = (X_test,y_test),\n",
    "                              verbose = 1, steps_per_epoch=X_train.shape[0] // batch_size\n",
    "                              , callbacks=[learning_rate_reduction])"
   ]
  },
  {
   "cell_type": "code",
   "execution_count": 24,
   "id": "977e3899",
   "metadata": {},
   "outputs": [],
   "source": [
    "model.save('CNN_Digit_Recognizer.h5')"
   ]
  }
 ],
 "metadata": {
  "kernelspec": {
   "display_name": "Python 3 (ipykernel)",
   "language": "python",
   "name": "python3"
  },
  "language_info": {
   "codemirror_mode": {
    "name": "ipython",
    "version": 3
   },
   "file_extension": ".py",
   "mimetype": "text/x-python",
   "name": "python",
   "nbconvert_exporter": "python",
   "pygments_lexer": "ipython3",
   "version": "3.9.17"
  }
 },
 "nbformat": 4,
 "nbformat_minor": 5
}
